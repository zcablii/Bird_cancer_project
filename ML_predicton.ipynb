{
 "cells": [
  {
   "cell_type": "code",
   "execution_count": 107,
   "metadata": {},
   "outputs": [
    {
     "name": "stdout",
     "output_type": "stream",
     "text": [
      "231\n",
      "           0        1      2      3      4      5        6         7      8  \\\n",
      "0      8.693    1.164  0.131  0.000  0.049  0.000    0.243    69.779  0.106   \n",
      "1     22.395   32.202  0.427  0.000  0.053  0.104    0.392    27.550  0.141   \n",
      "2     50.843   58.076  2.438  0.000  0.253  0.000    0.418  1666.335  0.291   \n",
      "3     66.151   29.167  0.103  0.000  0.086  0.142  332.090    18.384  0.105   \n",
      "4     54.679   52.251  0.492  0.024  0.042  0.083    0.367  2286.112  0.061   \n",
      "..       ...      ...    ...    ...    ...    ...      ...       ...    ...   \n",
      "226   78.057   18.612  2.117  0.242  0.060  0.090    0.542    21.353  0.073   \n",
      "227  307.665   84.385  6.185  1.029  0.257  0.661    0.274    19.099  0.624   \n",
      "228  224.079  112.152  7.181  0.084  0.440  0.000    0.853     4.641  0.748   \n",
      "229    8.973    0.574  0.000  0.000  0.075  0.147    0.891    37.523  0.036   \n",
      "230   52.029   10.074  4.695  0.187  0.000  0.646    0.264    10.163  0.317   \n",
      "\n",
      "         9  ...    419    420    421    422    423    424    425    426  \\\n",
      "0    0.012  ...  0.060  0.040  0.027  0.000  0.012  0.018  0.016  0.000   \n",
      "1    0.040  ...  0.547  0.000  0.053  0.006  0.081  0.013  0.044  0.000   \n",
      "2    0.048  ...  0.186  0.015  0.028  0.007  0.000  0.000  0.032  0.000   \n",
      "3    0.052  ...  0.305  0.149  0.134  0.000  0.000  0.051  1.883  0.152   \n",
      "4    0.054  ...  0.052  0.164  0.243  0.009  0.005  0.000  0.007  0.008   \n",
      "..     ...  ...    ...    ...    ...    ...    ...    ...    ...    ...   \n",
      "226  0.270  ...  0.489  0.292  0.027  0.069  0.008  0.064  0.030  0.012   \n",
      "227  0.158  ...  1.141  0.297  0.006  0.272  0.013  0.348  0.000  0.000   \n",
      "228  0.263  ...  0.131  0.035  0.016  0.032  0.037  0.009  0.000  0.014   \n",
      "229  0.000  ...  0.271  0.817  0.091  0.064  0.057  0.402  0.012  0.000   \n",
      "230  0.251  ...  1.972  1.348  0.109  0.071  0.083  0.369  0.110  0.000   \n",
      "\n",
      "       427  cancer  \n",
      "0    0.006       0  \n",
      "1    0.021       0  \n",
      "2    0.025       0  \n",
      "3    0.011       0  \n",
      "4    0.011       0  \n",
      "..     ...     ...  \n",
      "226  0.004       2  \n",
      "227  0.000       2  \n",
      "228  0.029       2  \n",
      "229  0.010       2  \n",
      "230  0.085       2  \n",
      "\n",
      "[231 rows x 429 columns]\n"
     ]
    },
    {
     "data": {
      "text/plain": [
       "<matplotlib.axes._subplots.AxesSubplot at 0x1ce438ffbe0>"
      ]
     },
     "execution_count": 107,
     "metadata": {},
     "output_type": "execute_result"
    },
    {
     "data": {
      "image/png": "[encoded data removed]",
      "text/plain": [
       "<Figure size 432x288 with 1 Axes>"
      ]
     },
     "metadata": {
      "needs_background": "light"
     },
     "output_type": "display_data"
    }
   ],
   "source": [
    "import logging\n",
    "import math\n",
    "import pandas as pd\n",
    "import numpy as np\n",
    "from scipy.interpolate import UnivariateSpline\n",
    "from matplotlib import pyplot as plt\n",
    "from scipy.stats import rankdata\n",
    "from sklearn.preprocessing import normalize\n",
    "from math import log\n",
    "from mpl_toolkits.axes_grid1 import make_axes_locatable   \n",
    "import random\n",
    "from mpl_toolkits.mplot3d import axes3d\n",
    "\n",
    "from scipy.special import logit as logit\n",
    "import seaborn as sns\n",
    "from tqdm.notebook import tqdm\n",
    "\n",
    "import torch\n",
    "import torch.nn as nn\n",
    "import torch.optim as optim\n",
    "from torch.utils.data import Dataset, DataLoader, WeightedRandomSampler\n",
    "\n",
    "from sklearn.preprocessing import MinMaxScaler    \n",
    "from sklearn.model_selection import train_test_split\n",
    "from sklearn.metrics import confusion_matrix, classification_report\n",
    "\n",
    "clinical_231_file = 'C:\\\\Users\\\\bird\\Desktop\\\\cancer_project_github\\\\cancer_data\\\\clinical_231_data.csv'\n",
    "mRNA_231_file = 'C:\\\\Users\\\\bird\\\\Desktop\\\\cancer_project_github\\\\cancer_data\\\\data_mRNA_231_sort_with_sensitive.csv'\n",
    "filterd_data = 'C:\\\\Users\\\\bird\\Desktop\\\\cancer_project_github\\\\cancer_data\\\\filtered_428_genes_data.csv'\n",
    "\n",
    "df = pd.read_csv(filterd_data)\n",
    "df = df.drop(columns = ['Hugo_ID'])\n",
    "cancer_types =  [0]*117+[1]*74+[2]*40\n",
    "print(len(cancer_types))\n",
    "# sns.countplot(x = 'Hugo_ID', data=df)\n",
    "df = df.T\n",
    "\n",
    "df['cancer'] = cancer_types\n",
    "print(df)\n",
    "\n",
    "sns.countplot(x = 'cancer', data=df)\n"
   ]
  },
  {
   "cell_type": "code",
   "execution_count": null,
   "metadata": {},
   "outputs": [],
   "source": []
  },
  {
   "cell_type": "code",
   "execution_count": 16,
   "metadata": {},
   "outputs": [
    {
     "name": "stdout",
     "output_type": "stream",
     "text": [
      "133\n"
     ]
    }
   ],
   "source": [
    "print(len(X_train[0]))"
   ]
  },
  {
   "cell_type": "code",
   "execution_count": 108,
   "metadata": {},
   "outputs": [
    {
     "name": "stdout",
     "output_type": "stream",
     "text": [
      "Train set datapoints: 207\n",
      "Validation set datapoints: 24\n"
     ]
    },
    {
     "data": {
      "image/png": "[encoded data removed]",
      "text/plain": [
       "<Figure size 432x288 with 1 Axes>"
      ]
     },
     "metadata": {
      "needs_background": "light"
     },
     "output_type": "display_data"
    },
    {
     "data": {
      "image/png": "[encoded data removed]",
      "text/plain": [
       "<Figure size 432x288 with 1 Axes>"
      ]
     },
     "metadata": {
      "needs_background": "light"
     },
     "output_type": "display_data"
    }
   ],
   "source": [
    "class2idx = {\n",
    "    0:0,\n",
    "    1:1,\n",
    "    2:2\n",
    "}\n",
    "\n",
    "idx2class = {v: k for k, v in class2idx.items()}\n",
    "\n",
    "df['cancer'].replace(class2idx, inplace=True)\n",
    "\n",
    "X = df.iloc[:, 0:-1]\n",
    "y = df.iloc[:, -1]\n",
    "\n",
    "# Split train into train-val\n",
    "X_train, X_val, y_train, y_val = train_test_split(X, y, test_size=0.1, stratify=y, random_state=21)\n",
    "\n",
    "scaler = MinMaxScaler()\n",
    "X_train = scaler.fit_transform(X_train)\n",
    "X_val = scaler.transform(X_val)\n",
    "X_train, y_train = np.array(X_train), np.array(y_train)\n",
    "X_val, y_val = np.array(X_val), np.array(y_val)\n",
    "print(\"Train set datapoints: \"+str(len(X_train)))\n",
    "print(\"Validation set datapoints: \"+str(len(X_val)))\n",
    "\n",
    "def get_class_distribution(obj):\n",
    "    count_dict = {\n",
    "        \"LN\": 0,\n",
    "        \"Bone\": 0,\n",
    "        \"Liver\": 0\n",
    "    }\n",
    "    \n",
    "    for i in obj:\n",
    "        if i == 0: \n",
    "            count_dict['LN'] += 1\n",
    "        elif i == 1: \n",
    "            count_dict['Bone'] += 1\n",
    "        elif i == 2: \n",
    "            count_dict['Liver'] += 1          \n",
    "        else:\n",
    "            print(\"Check classes.\")\n",
    "            \n",
    "    return count_dict\n",
    "\n",
    "\n",
    "\n",
    "ax = sns.barplot(data = pd.DataFrame.from_dict([get_class_distribution(y_train)]).melt(),\\\n",
    "            x = \"variable\", y=\"value\")\n",
    "ax.set(xlabel=\"Cancer type\", ylabel = \"Cases number\", title=\"Class Distribution in Train Set\")\n",
    "plt.show(ax)\n",
    "ax2 = sns.barplot(data = pd.DataFrame.from_dict([get_class_distribution(y_val)]).melt(), \\\n",
    "            x = \"variable\", y=\"value\")\n",
    "ax2.set(xlabel=\"Cancer type\", ylabel = \"Cases number\",title=\"Class Distribution in Validation Set\")\n",
    "plt.show(ax2)"
   ]
  },
  {
   "cell_type": "code",
   "execution_count": 21,
   "metadata": {},
   "outputs": [
    {
     "name": "stdout",
     "output_type": "stream",
     "text": [
      "0\n",
      "1\n",
      "0\n"
     ]
    }
   ],
   "source": []
  },
  {
   "cell_type": "code",
   "execution_count": 109,
   "metadata": {},
   "outputs": [
    {
     "name": "stdout",
     "output_type": "stream",
     "text": [
      "tensor([0.0095, 0.0152, 0.0278])\n"
     ]
    }
   ],
   "source": [
    "# custom Dataset\n",
    "class ClassifierDataset(Dataset):\n",
    "    \n",
    "    def __init__(self, X_data, y_data):\n",
    "        self.X_data = X_data\n",
    "        self.y_data = y_data\n",
    "        \n",
    "    def __getitem__(self, index):\n",
    "        return self.X_data[index], self.y_data[index]\n",
    "        \n",
    "    def __len__ (self):\n",
    "        return len(self.X_data)\n",
    "\n",
    "\n",
    "train_dataset = ClassifierDataset(torch.from_numpy(X_train).float(), torch.from_numpy(y_train).long())\n",
    "val_dataset = ClassifierDataset(torch.from_numpy(X_val).float(), torch.from_numpy(y_val).long())\n",
    "\n",
    "#Weighted Sampling\n",
    "target_list = []\n",
    "for _, t in train_dataset:\n",
    "    target_list.append(t)\n",
    "    \n",
    "target_list = torch.tensor(target_list)\n",
    "target_list = target_list[torch.randperm(len(target_list))]\n",
    "\n",
    "class_count = [i for i in get_class_distribution(y_train).values()]\n",
    "class_weights = 1./torch.tensor(class_count, dtype=torch.float) \n",
    "print(class_weights)\n",
    "\n",
    "\n",
    "class_weights_all = class_weights[target_list]\n",
    "weighted_sampler = WeightedRandomSampler(\n",
    "    weights=class_weights_all,\n",
    "    num_samples=len(class_weights_all),\n",
    "    replacement=True\n",
    ")"
   ]
  },
  {
   "cell_type": "code",
   "execution_count": 110,
   "metadata": {},
   "outputs": [
    {
     "name": "stdout",
     "output_type": "stream",
     "text": [
      "MulticlassClassification(\n",
      "  (layer_1): Linear(in_features=428, out_features=512, bias=True)\n",
      "  (layer_2): Linear(in_features=512, out_features=128, bias=True)\n",
      "  (layer_3): Linear(in_features=128, out_features=64, bias=True)\n",
      "  (layer_out): Linear(in_features=64, out_features=3, bias=True)\n",
      "  (relu): ReLU()\n",
      "  (dropout): Dropout(p=0.2, inplace=False)\n",
      "  (batchnorm1): BatchNorm1d(512, eps=1e-05, momentum=0.1, affine=True, track_running_stats=True)\n",
      "  (batchnorm2): BatchNorm1d(128, eps=1e-05, momentum=0.1, affine=True, track_running_stats=True)\n",
      "  (batchnorm3): BatchNorm1d(64, eps=1e-05, momentum=0.1, affine=True, track_running_stats=True)\n",
      ")\n"
     ]
    }
   ],
   "source": [
    "EPOCHS = 200\n",
    "BATCH_SIZE = len(X_train[0])\n",
    "LEARNING_RATE = 0.0001\n",
    "NUM_FEATURES = len(X.columns)\n",
    "NUM_CLASSES = 3\n",
    "\n",
    "\n",
    "train_loader = DataLoader(dataset=train_dataset,\n",
    "                          batch_size=BATCH_SIZE,\n",
    "                          sampler=weighted_sampler\n",
    ")\n",
    "val_loader = DataLoader(dataset=val_dataset, batch_size=1)\n",
    "\n",
    "class MulticlassClassification(nn.Module):\n",
    "    def __init__(self, num_feature, num_class):\n",
    "        super(MulticlassClassification, self).__init__()\n",
    "        \n",
    "        self.layer_1 = nn.Linear(num_feature, 512)\n",
    "        self.layer_2 = nn.Linear(512, 128)\n",
    "        self.layer_3 = nn.Linear(128, 64)\n",
    "        self.layer_out = nn.Linear(64, num_class) \n",
    "        \n",
    "        self.relu = nn.ReLU()\n",
    "        self.dropout = nn.Dropout(p=0.2)\n",
    "        self.batchnorm1 = nn.BatchNorm1d(512)\n",
    "        self.batchnorm2 = nn.BatchNorm1d(128)\n",
    "        self.batchnorm3 = nn.BatchNorm1d(64)\n",
    "        \n",
    "    def forward(self, x):\n",
    "        x = self.layer_1(x)\n",
    "        x = self.batchnorm1(x)\n",
    "        x = self.relu(x)\n",
    "        \n",
    "        x = self.layer_2(x)\n",
    "        x = self.batchnorm2(x)\n",
    "        x = self.relu(x)\n",
    "        x = self.dropout(x)\n",
    "        \n",
    "        x = self.layer_3(x)\n",
    "        x = self.batchnorm3(x)\n",
    "        x = self.relu(x)\n",
    "        x = self.dropout(x)\n",
    "        \n",
    "        x = self.layer_out(x)\n",
    "        \n",
    "        return x\n",
    "    \n",
    "device = torch.device(\"cuda:0\" if torch.cuda.is_available() else \"cpu\")\n",
    "    \n",
    "model = MulticlassClassification(num_feature = NUM_FEATURES, num_class=NUM_CLASSES)\n",
    "model.to(device)\n",
    "\n",
    "criterion = nn.CrossEntropyLoss(weight=class_weights.to(device))\n",
    "optimizer = optim.Adam(model.parameters(), lr=LEARNING_RATE)\n",
    "print(model)\n"
   ]
  },
  {
   "cell_type": "code",
   "execution_count": 16,
   "metadata": {},
   "outputs": [],
   "source": [
    "# "
   ]
  },
  {
   "cell_type": "code",
   "execution_count": 111,
   "metadata": {},
   "outputs": [
    {
     "name": "stdout",
     "output_type": "stream",
     "text": [
      "Begin training.\n"
     ]
    },
    {
     "data": {
      "application/vnd.jupyter.widget-view+json": {
       "model_id": "f3db9db6d44749f48347a02ad090a3bb",
       "version_major": 2,
       "version_minor": 0
      },
      "text/plain": [
       "HBox(children=(FloatProgress(value=0.0, max=200.0), HTML(value='')))"
      ]
     },
     "metadata": {},
     "output_type": "display_data"
    },
    {
     "name": "stdout",
     "output_type": "stream",
     "text": [
      "Epoch 10: | Train Loss: 0.83000 | Val Loss: 1.07393 | Train Acc: 100.000| Val Acc: 54.167\n",
      "Epoch 20: | Train Loss: 0.62713 | Val Loss: 0.98808 | Train Acc: 100.000| Val Acc: 79.167\n",
      "Epoch 30: | Train Loss: 0.51750 | Val Loss: 0.84559 | Train Acc: 100.000| Val Acc: 83.333\n",
      "Epoch 40: | Train Loss: 0.43989 | Val Loss: 0.68741 | Train Acc: 100.000| Val Acc: 83.333\n",
      "Epoch 50: | Train Loss: 0.36621 | Val Loss: 0.58214 | Train Acc: 100.000| Val Acc: 83.333\n",
      "Epoch 60: | Train Loss: 0.34911 | Val Loss: 0.52845 | Train Acc: 100.000| Val Acc: 83.333\n",
      "Epoch 70: | Train Loss: 0.27155 | Val Loss: 0.49676 | Train Acc: 100.000| Val Acc: 87.500\n",
      "Epoch 80: | Train Loss: 0.24663 | Val Loss: 0.48166 | Train Acc: 100.000| Val Acc: 87.500\n",
      "Epoch 90: | Train Loss: 0.23433 | Val Loss: 0.47314 | Train Acc: 100.000| Val Acc: 83.333\n",
      "Epoch 100: | Train Loss: 0.24458 | Val Loss: 0.47984 | Train Acc: 100.000| Val Acc: 83.333\n",
      "Epoch 110: | Train Loss: 0.19407 | Val Loss: 0.48334 | Train Acc: 100.000| Val Acc: 83.333\n",
      "Epoch 120: | Train Loss: 0.16648 | Val Loss: 0.48459 | Train Acc: 100.000| Val Acc: 83.333\n",
      "Epoch 130: | Train Loss: 0.16552 | Val Loss: 0.49747 | Train Acc: 100.000| Val Acc: 83.333\n",
      "Epoch 140: | Train Loss: 0.14301 | Val Loss: 0.49254 | Train Acc: 100.000| Val Acc: 83.333\n",
      "Epoch 150: | Train Loss: 0.13918 | Val Loss: 0.48334 | Train Acc: 100.000| Val Acc: 83.333\n",
      "Epoch 160: | Train Loss: 0.12636 | Val Loss: 0.48477 | Train Acc: 100.000| Val Acc: 83.333\n",
      "Epoch 170: | Train Loss: 0.11997 | Val Loss: 0.48027 | Train Acc: 100.000| Val Acc: 83.333\n",
      "Epoch 180: | Train Loss: 0.12289 | Val Loss: 0.47745 | Train Acc: 100.000| Val Acc: 83.333\n",
      "Epoch 190: | Train Loss: 0.10469 | Val Loss: 0.47197 | Train Acc: 100.000| Val Acc: 83.333\n",
      "Epoch 200: | Train Loss: 0.10204 | Val Loss: 0.47684 | Train Acc: 100.000| Val Acc: 83.333\n",
      "\n"
     ]
    }
   ],
   "source": [
    "\n",
    "def multi_acc(y_pred, y_test, ind):\n",
    "    y_pred_softmax = torch.log_softmax(y_pred, dim = 1)\n",
    "    _, y_pred_tags = torch.max(y_pred_softmax, dim = 1)    \n",
    "#     print(y_pred_tags)\n",
    "#     if(ind!=-1 and y_pred_tags != y_test):\n",
    "#         print(ind)\n",
    "    correct_pred = (y_pred_tags == y_test).float()\n",
    "    acc = correct_pred.sum() / len(correct_pred)\n",
    "    \n",
    "    acc = torch.round(acc) * 100\n",
    "    \n",
    "    return acc\n",
    "\n",
    "accuracy_stats = {\n",
    "    'train': [],\n",
    "    \"val\": []\n",
    "}\n",
    "loss_stats = {\n",
    "    'train': [],\n",
    "    \"val\": []\n",
    "}\n",
    "\n",
    "print(\"Begin training.\")\n",
    "for e in tqdm(range(1, EPOCHS+1)):\n",
    "    \n",
    "    # TRAINING\n",
    "    train_epoch_loss = 0\n",
    "    train_epoch_acc = 0\n",
    "    model.train()\n",
    "    for X_train_batch, y_train_batch in train_loader:\n",
    "        X_train_batch, y_train_batch = X_train_batch.to(device), y_train_batch.to(device)\n",
    "        optimizer.zero_grad()\n",
    "        \n",
    "        y_train_pred = model(X_train_batch)\n",
    "        \n",
    "        train_loss = criterion(y_train_pred, y_train_batch)\n",
    "        train_acc = multi_acc(y_train_pred, y_train_batch, -1)\n",
    "        \n",
    "        train_loss.backward()\n",
    "        optimizer.step()\n",
    "        \n",
    "        train_epoch_loss += train_loss.item()\n",
    "        train_epoch_acc += train_acc.item()\n",
    "        \n",
    "        \n",
    "    # VALIDATION    \n",
    "    with torch.no_grad():\n",
    "        \n",
    "        val_epoch_loss = 0\n",
    "        val_epoch_acc = 0\n",
    "        \n",
    "        model.eval()\n",
    "        ind = 0\n",
    "        for X_val_batch, y_val_batch in val_loader:\n",
    "            X_val_batch, y_val_batch = X_val_batch.to(device), y_val_batch.to(device)\n",
    "            \n",
    "            y_val_pred = model(X_val_batch)\n",
    "            val_loss = criterion(y_val_pred, y_val_batch)\n",
    "            val_acc = multi_acc(y_val_pred, y_val_batch,ind)\n",
    "            \n",
    "            val_epoch_loss += val_loss.item()\n",
    "            val_epoch_acc += val_acc.item()\n",
    "            ind+=1\n",
    "    loss_stats['train'].append(train_epoch_loss/len(train_loader))\n",
    "    loss_stats['val'].append(val_epoch_loss/len(val_loader))\n",
    "    accuracy_stats['train'].append(train_epoch_acc/len(train_loader))\n",
    "    accuracy_stats['val'].append(val_epoch_acc/len(val_loader))\n",
    "                              \n",
    "    if e%10 == 0:\n",
    "        print(f'Epoch {e}: | Train Loss: {train_epoch_loss/len(train_loader):.5f} | Val Loss: {val_epoch_loss/len(val_loader):.5f} | Train Acc: {train_epoch_acc/len(train_loader):.3f}| Val Acc: {val_epoch_acc/len(val_loader):.3f}')\n"
   ]
  },
  {
   "cell_type": "code",
   "execution_count": 112,
   "metadata": {},
   "outputs": [
    {
     "data": {
      "text/plain": [
       "Text(0.5, 1.0, 'Train-Val Loss/Epoch')"
      ]
     },
     "execution_count": 112,
     "metadata": {},
     "output_type": "execute_result"
    },
    {
     "data": {
      "image/png": "[encoded data removed]",
      "text/plain": [
       "<Figure size 1080x360 with 2 Axes>"
      ]
     },
     "metadata": {
      "needs_background": "light"
     },
     "output_type": "display_data"
    }
   ],
   "source": [
    "train_val_acc_df = pd.DataFrame.from_dict(accuracy_stats).reset_index().melt(id_vars=['index']).rename(columns={\"index\":\"epochs\"}).rename(columns={\"value\":\"Accuracy in %\"})\n",
    "train_val_loss_df = pd.DataFrame.from_dict(loss_stats).reset_index().melt(id_vars=['index']).rename(columns={\"index\":\"epochs\"}).rename(columns={\"value\":\"Cross Entropy Loss\"})\n",
    "# Plot the dataframes\n",
    "fig, axes = plt.subplots(nrows=1, ncols=2, figsize=(15,5))\n",
    "sns.lineplot(data=train_val_acc_df, x = \"epochs\", y=\"Accuracy in %\", hue=\"variable\",  ax=axes[0]).set_title('Train-Val Accuracy/Epoch')\n",
    "sns.lineplot(data=train_val_loss_df, x = \"epochs\", y=\"Cross Entropy Loss\", hue=\"variable\", ax=axes[1]).set_title('Train-Val Loss/Epoch')\n",
    "\n",
    "# ax = sns.lineplot(data=train_val_loss_df, x = \"epochs\", y=\"value\")\n",
    "# plt.show(ax)"
   ]
  },
  {
   "cell_type": "code",
   "execution_count": 113,
   "metadata": {},
   "outputs": [
    {
     "name": "stdout",
     "output_type": "stream",
     "text": [
      "              precision    recall  f1-score   support\n",
      "\n",
      "           0       0.91      0.83      0.87        12\n",
      "           1       0.78      0.88      0.82         8\n",
      "           2       0.75      0.75      0.75         4\n",
      "\n",
      "    accuracy                           0.83        24\n",
      "   macro avg       0.81      0.82      0.81        24\n",
      "weighted avg       0.84      0.83      0.83        24\n",
      "\n"
     ]
    },
    {
     "data": {
      "image/png": "[encoded data removed]",
      "text/plain": [
       "<Figure size 432x288 with 2 Axes>"
      ]
     },
     "metadata": {
      "needs_background": "light"
     },
     "output_type": "display_data"
    }
   ],
   "source": [
    "y_pred_list = []\n",
    "with torch.no_grad():\n",
    "    model.eval()\n",
    "    for X_batch, _ in val_loader:\n",
    "        X_batch = X_batch.to(device)\n",
    "        y_test_pred = model(X_batch)\n",
    "        _, y_pred_tags = torch.max(y_test_pred, dim = 1)\n",
    "        y_pred_list.append(y_pred_tags.cpu().numpy())\n",
    "y_pred_list = [a.squeeze().tolist() for a in y_pred_list]\n",
    "\n",
    "class2idx = {\n",
    "    'LN':0,\n",
    "    'Bone':1,\n",
    "    'Liver':2\n",
    "}\n",
    "\n",
    "idx2class = {v: k for k, v in class2idx.items()}\n",
    "# print(idx2class)\n",
    "confusion_matrix_df = pd.DataFrame(confusion_matrix(y_val, y_pred_list)).rename(columns=idx2class, index=idx2class)\n",
    "\n",
    "sns.heatmap(confusion_matrix_df, annot=True).set(xlabel=\"Predict\", ylabel = \"Actual\",title=\"Confusion Matrix\")\n",
    "print(classification_report(y_val, y_pred_list))"
   ]
  },
  {
   "cell_type": "code",
   "execution_count": 2,
   "metadata": {},
   "outputs": [
    {
     "name": "stdout",
     "output_type": "stream",
     "text": [
      "               0       1       2       3       4          5       6        7  \\\n",
      "SAMPLE_ID                                                                      \n",
      "2          8.693  22.395  50.843  66.151  54.679  11564.212  43.055  394.181   \n",
      "9          1.164  32.202  58.076  29.167  52.251   8333.306  18.559  101.457   \n",
      "33         0.131   0.427   2.438   0.103   0.492     33.970   0.000    3.231   \n",
      "48         0.000   0.000   0.000   0.000   0.024      2.236   0.028    0.147   \n",
      "79         0.049   0.053   0.253   0.086   0.042      0.252   0.000    0.171   \n",
      "...          ...     ...     ...     ...     ...        ...     ...      ...   \n",
      "13864      0.012   0.081   0.000   0.000   0.005      0.032   0.006    0.000   \n",
      "13874      0.018   0.013   0.000   0.051   0.000      0.032   0.000    0.000   \n",
      "13940      0.016   0.044   0.032   1.883   0.007      0.000   0.000    0.022   \n",
      "14010      0.000   0.000   0.000   0.152   0.008      0.000   0.000    0.008   \n",
      "14119      0.006   0.021   0.025   0.011   0.011      0.000   0.013    0.000   \n",
      "\n",
      "                8         9  ...     221     222     223    224     225  \\\n",
      "SAMPLE_ID                    ...                                          \n",
      "2          22.921  1510.334  ...  48.828  33.877  44.952  4.241  38.053   \n",
      "9          15.704   449.229  ...  16.234  14.736  26.046  1.728   9.462   \n",
      "33          0.124     2.030  ...   0.000   0.136   1.793  0.000   0.253   \n",
      "48          0.026     0.569  ...   0.022   0.000   0.000  0.055   0.046   \n",
      "79          0.000     0.317  ...   0.079   0.038   0.039  0.048   0.201   \n",
      "...           ...       ...  ...     ...     ...     ...    ...     ...   \n",
      "13864       0.000     0.000  ...   0.040   0.015   0.000  0.024   0.000   \n",
      "13874       0.064     0.113  ...   0.084   0.062   0.010  0.000   0.000   \n",
      "13940       0.000     0.008  ...   0.046   0.000   0.013  0.008   0.000   \n",
      "14010       0.018     0.009  ...   0.008   0.007   0.008  0.009   0.000   \n",
      "14119       0.012     0.006  ...   0.015   0.000   0.015  0.031   0.010   \n",
      "\n",
      "              226      227      228    229     230  \n",
      "SAMPLE_ID                                           \n",
      "2          78.057  307.665  224.079  8.973  52.029  \n",
      "9          18.612   84.385  112.152  0.574  10.074  \n",
      "33          2.117    6.185    7.181  0.000   4.695  \n",
      "48          0.242    1.029    0.084  0.000   0.187  \n",
      "79          0.060    0.257    0.440  0.075   0.000  \n",
      "...           ...      ...      ...    ...     ...  \n",
      "13864       0.008    0.013    0.037  0.057   0.083  \n",
      "13874       0.064    0.348    0.009  0.402   0.369  \n",
      "13940       0.030    0.000    0.000  0.012   0.110  \n",
      "14010       0.012    0.000    0.014  0.000   0.000  \n",
      "14119       0.004    0.000    0.029  0.010   0.085  \n",
      "\n",
      "[428 rows x 231 columns]\n",
      "               0       1       2       3       4          5       6        7  \\\n",
      "SAMPLE_ID                                                                      \n",
      "2          8.693  22.395  50.843  66.151  54.679  11564.212  43.055  394.181   \n",
      "9          1.164  32.202  58.076  29.167  52.251   8333.306  18.559  101.457   \n",
      "33         0.131   0.427   2.438   0.103   0.492     33.970   0.000    3.231   \n",
      "48         0.000   0.000   0.000   0.000   0.024      2.236   0.028    0.147   \n",
      "79         0.049   0.053   0.253   0.086   0.042      0.252   0.000    0.171   \n",
      "...          ...     ...     ...     ...     ...        ...     ...      ...   \n",
      "13864      0.012   0.081   0.000   0.000   0.005      0.032   0.006    0.000   \n",
      "13874      0.018   0.013   0.000   0.051   0.000      0.032   0.000    0.000   \n",
      "13940      0.016   0.044   0.032   1.883   0.007      0.000   0.000    0.022   \n",
      "14010      0.000   0.000   0.000   0.152   0.008      0.000   0.000    0.008   \n",
      "14119      0.006   0.021   0.025   0.011   0.011      0.000   0.013    0.000   \n",
      "\n",
      "                8         9  ...     221     222     223    224     225  \\\n",
      "SAMPLE_ID                    ...                                          \n",
      "2          22.921  1510.334  ...  48.828  33.877  44.952  4.241  38.053   \n",
      "9          15.704   449.229  ...  16.234  14.736  26.046  1.728   9.462   \n",
      "33          0.124     2.030  ...   0.000   0.136   1.793  0.000   0.253   \n",
      "48          0.026     0.569  ...   0.022   0.000   0.000  0.055   0.046   \n",
      "79          0.000     0.317  ...   0.079   0.038   0.039  0.048   0.201   \n",
      "...           ...       ...  ...     ...     ...     ...    ...     ...   \n",
      "13864       0.000     0.000  ...   0.040   0.015   0.000  0.024   0.000   \n",
      "13874       0.064     0.113  ...   0.084   0.062   0.010  0.000   0.000   \n",
      "13940       0.000     0.008  ...   0.046   0.000   0.013  0.008   0.000   \n",
      "14010       0.018     0.009  ...   0.008   0.007   0.008  0.009   0.000   \n",
      "14119       0.012     0.006  ...   0.015   0.000   0.015  0.031   0.010   \n",
      "\n",
      "              226      227      228    229     230  \n",
      "SAMPLE_ID                                           \n",
      "2          78.057  307.665  224.079  8.973  52.029  \n",
      "9          18.612   84.385  112.152  0.574  10.074  \n",
      "33          2.117    6.185    7.181  0.000   4.695  \n",
      "48          0.242    1.029    0.084  0.000   0.187  \n",
      "79          0.060    0.257    0.440  0.075   0.000  \n",
      "...           ...      ...      ...    ...     ...  \n",
      "13864       0.008    0.013    0.037  0.057   0.083  \n",
      "13874       0.064    0.348    0.009  0.402   0.369  \n",
      "13940       0.030    0.000    0.000  0.012   0.110  \n",
      "14010       0.012    0.000    0.014  0.000   0.000  \n",
      "14119       0.004    0.000    0.029  0.010   0.085  \n",
      "\n",
      "[428 rows x 231 columns]\n"
     ]
    }
   ],
   "source": [
    "\"\"\"\n",
    "load data\n",
    "\"\"\"\n",
    "# filterd_data = mRNA_231_file\n",
    "# the SAMPLE_ID in the file is the corresponding SAMPLE_ID in data_mRNA_231_sort_with_sensitive\n",
    "mRNA_231_df=pd.read_csv(filterd_data)\n",
    "\n",
    "st = [str(x) for x in range(231)]\n",
    "\n",
    "mRNA_231_df.drop_duplicates(subset=st)\n",
    "\n",
    "mRNA_231_df = mRNA_231_df.set_index('SAMPLE_ID')\n",
    "print(mRNA_231_df)"
   ]
  },
  {
   "cell_type": "code",
   "execution_count": 4,
   "metadata": {},
   "outputs": [
    {
     "name": "stdout",
     "output_type": "stream",
     "text": [
      "(231, 14379)\n"
     ]
    },
    {
     "ename": "NameError",
     "evalue": "name 'norm_and_sort_patients' is not defined",
     "output_type": "error",
     "traceback": [
      "\u001b[1;31m---------------------------------------------------------------------------\u001b[0m",
      "\u001b[1;31mNameError\u001b[0m                                 Traceback (most recent call last)",
      "\u001b[1;32m<ipython-input-4-17716e8e4dc6>\u001b[0m in \u001b[0;36m<module>\u001b[1;34m\u001b[0m\n\u001b[0;32m     28\u001b[0m \u001b[1;31m#     patient_np = plot_genes[i,3].T   # uncomment this for intersect_genes only\u001b[0m\u001b[1;33m\u001b[0m\u001b[1;33m\u001b[0m\u001b[1;33m\u001b[0m\u001b[0m\n\u001b[0;32m     29\u001b[0m \u001b[1;33m\u001b[0m\u001b[0m\n\u001b[1;32m---> 30\u001b[1;33m \u001b[0mcorrelation_matrix\u001b[0m\u001b[1;33m,\u001b[0m \u001b[0mpatient_np\u001b[0m \u001b[1;33m=\u001b[0m \u001b[0mnorm_and_sort_patients\u001b[0m\u001b[1;33m(\u001b[0m\u001b[0mmRNA_np\u001b[0m\u001b[1;33m,\u001b[0m \u001b[0mparams\u001b[0m\u001b[1;33m)\u001b[0m\u001b[1;31m#hetero homo scale_and_bin rank_and_scale\u001b[0m\u001b[1;33m\u001b[0m\u001b[1;33m\u001b[0m\u001b[0m\n\u001b[0m\u001b[0;32m     31\u001b[0m \u001b[1;33m\u001b[0m\u001b[0m\n\u001b[0;32m     32\u001b[0m \u001b[1;33m\u001b[0m\u001b[0m\n",
      "\u001b[1;31mNameError\u001b[0m: name 'norm_and_sort_patients' is not defined"
     ]
    }
   ],
   "source": [
    "mRNA_231_df=pd.read_csv(filterd_data)\n",
    "mRNA_231_df = mRNA_231_df.set_index('SAMPLE_ID')\n",
    "patient_mRNA = []\n",
    "for column in mRNA_231_df:\n",
    "    #     print(mRNA_244_df[column].tolist())\n",
    "    patient_mRNA.append(mRNA_231_df[column].tolist())\n",
    "mRNA_np = np.asarray(patient_mRNA)\n",
    "\n",
    "\n",
    "\n",
    "print(mRNA_np.shape)\n",
    "    \n",
    "\n",
    "\n",
    "sorts = {\"\":'0',\n",
    "    \"homo\":'1',\n",
    "    \"hetero\":\"2\"}\n",
    "\n",
    "norms = {'': '0',\n",
    "         'linear_scale_and_bin': 'A',\n",
    "         'log_scale_and_bin': 'A',\n",
    "         'rank_and_scale': 'B'\n",
    "}\n",
    "\n",
    "params = ['homo','mean', 'rank_and_scale', sorts, norms] # scheme = {'', 'hetero' 'homo'}, norm = {'','rank_and_scale', 'scale_and_bin_linear', 'log_scale_and_bin'}\n",
    "norm = 'rank_and_scale'\n",
    "# patient_np = plot_genes[i].T\n",
    "#     patient_np = plot_genes[i,3].T   # uncomment this for intersect_genes only\n",
    "\n",
    "correlation_matrix, patient_np = norm_and_sort_patients(mRNA_np, params)#hetero homo scale_and_bin rank_and_scale\n",
    "\n",
    "\n",
    "plot_heatmap(correlation_matrix,params)\n"
   ]
  },
  {
   "cell_type": "code",
   "execution_count": 3,
   "metadata": {},
   "outputs": [
    {
     "name": "stdout",
     "output_type": "stream",
     "text": [
      "[[8.69300e+00 1.16400e+00 1.31000e-01 ... 1.60000e-02 0.00000e+00\n",
      "  6.00000e-03]\n",
      " [2.23950e+01 3.22020e+01 4.27000e-01 ... 4.40000e-02 0.00000e+00\n",
      "  2.10000e-02]\n",
      " [5.08430e+01 5.80760e+01 2.43800e+00 ... 3.20000e-02 0.00000e+00\n",
      "  2.50000e-02]\n",
      " ...\n",
      " [2.24079e+02 1.12152e+02 7.18100e+00 ... 0.00000e+00 1.40000e-02\n",
      "  2.90000e-02]\n",
      " [8.97300e+00 5.74000e-01 0.00000e+00 ... 1.20000e-02 0.00000e+00\n",
      "  1.00000e-02]\n",
      " [5.20290e+01 1.00740e+01 4.69500e+00 ... 1.10000e-01 0.00000e+00\n",
      "  8.50000e-02]]\n"
     ]
    }
   ],
   "source": [
    "mRNA_231_df=pd.read_csv(filterd_data)\n",
    "mRNA_231_df = mRNA_231_df.set_index('SAMPLE_ID')\n",
    "patient_mRNA = []\n",
    "for column in mRNA_231_df:\n",
    "    #     print(mRNA_244_df[column].tolist())\n",
    "    patient_mRNA.append(mRNA_231_df[column].tolist())\n",
    "dataset = np.asarray(patient_mRNA)\n",
    "print(dataset)"
   ]
  },
  {
   "cell_type": "code",
   "execution_count": 6,
   "metadata": {},
   "outputs": [
    {
     "name": "stdout",
     "output_type": "stream",
     "text": [
      "(231, 14379)\n"
     ]
    }
   ],
   "source": [
    "\n",
    "x = mRNA_np.T\n",
    "def rd(x):\n",
    "    return  (rankdata(x, method='dense') - 1).astype(int)\n",
    "x = np.apply_along_axis(rd, 1, x)\n",
    "mRNA_np = scale(x.T,0,100)\n",
    "\n",
    "\n",
    "print(mRNA_np.shape)"
   ]
  },
  {
   "cell_type": "code",
   "execution_count": 9,
   "metadata": {},
   "outputs": [
    {
     "name": "stdout",
     "output_type": "stream",
     "text": [
      "(231, 133)\n",
      "Baseline: 63.53% (18.84%)\n"
     ]
    }
   ],
   "source": [
    "import pandas\n",
    "from keras.models import Sequential\n",
    "from keras.layers import Dense\n",
    "from keras.wrappers.scikit_learn import KerasClassifier\n",
    "from keras.utils import np_utils\n",
    "from sklearn.model_selection import cross_val_score\n",
    "from sklearn.model_selection import KFold\n",
    "from sklearn.preprocessing import LabelEncoder\n",
    "from sklearn.pipeline import Pipeline\n",
    "# load dataset\n",
    "\n",
    "mRNA_231_df=pd.read_csv(filterd_data)\n",
    "mRNA_231_df = mRNA_231_df.set_index('SAMPLE_ID')\n",
    "patient_mRNA = []\n",
    "for column in mRNA_231_df:\n",
    "    #     print(mRNA_244_df[column].tolist())\n",
    "    patient_mRNA.append(mRNA_231_df[column].tolist())\n",
    "dataset = np.asarray(patient_mRNA)\n",
    "\n",
    "\"\"\"\n",
    "comment out to use origin genes,\n",
    "without comment out, use ranked values\n",
    "\"\"\"\n",
    "x = dataset.T\n",
    "def rd(x):\n",
    "    return  (rankdata(x, method='dense') - 1).astype(int)\n",
    "x = np.apply_along_axis(rd, 1, x)\n",
    "dataset = scale(x.T,0,100)\n",
    "\n",
    "print(dataset.shape)\n",
    "\n",
    "X = dataset.astype(float)\n",
    "Y = np.array([0]*117+[1]*74+[2]*40)\n",
    "# Y = Y.reshape(1,-1)\n",
    "# encode class values as integers\n",
    "encoder = LabelEncoder()\n",
    "encoder.fit(Y)\n",
    "encoded_Y = encoder.transform(Y)\n",
    "# convert integers to dummy variables (i.e. one hot encoded)\n",
    "dummy_y = np_utils.to_categorical(encoded_Y)\n",
    " \n",
    "# define baseline model\n",
    "def baseline_model():\n",
    "    # create model\n",
    "    model = Sequential()\n",
    "    model.add(Dense(1024, activation='relu'))\n",
    "    model.add(Dense(3, activation='softmax'))\n",
    "    # Compile model\n",
    "    model.compile(loss='categorical_crossentropy', optimizer='adam', metrics=['accuracy'])\n",
    "    return model\n",
    " \n",
    "estimator = KerasClassifier(build_fn=baseline_model, epochs=50, batch_size=133, verbose=0)\n",
    "kfold = KFold(n_splits=10, shuffle=True)\n",
    "results = cross_val_score(estimator, X, dummy_y, cv=kfold)\n",
    "print(\"Baseline: %.2f%% (%.2f%%)\" % (results.mean()*100, results.std()*100))"
   ]
  },
  {
   "cell_type": "code",
   "execution_count": null,
   "metadata": {},
   "outputs": [],
   "source": []
  },
  {
   "cell_type": "markdown",
   "metadata": {},
   "source": [
    "# ignore below !#"
   ]
  },
  {
   "cell_type": "code",
   "execution_count": 1,
   "metadata": {},
   "outputs": [],
   "source": []
  },
  {
   "cell_type": "code",
   "execution_count": 120,
   "metadata": {
    "scrolled": false
   },
   "outputs": [
    {
     "name": "stdout",
     "output_type": "stream",
     "text": [
      "                   0          1          2          3          4           5  \\\n",
      "SAMPLE_ID                                                                      \n",
      "0          12880.736  39235.245  47125.027  17759.562  16911.939  373520.889   \n",
      "1          13629.979  29296.085  42686.075  14363.479  12011.571  157101.452   \n",
      "2              8.693     22.395     50.843     66.151     54.679   11564.212   \n",
      "3           1926.368   9021.929  12278.160   8388.242  12418.195   74725.583   \n",
      "4           8592.185  19165.452  13258.599   9400.131   9190.623  150989.122   \n",
      "...              ...        ...        ...        ...        ...         ...   \n",
      "14374          0.000      0.000      0.000      0.000      0.000       0.000   \n",
      "14375          0.000      0.000      0.000      0.000      0.000       0.000   \n",
      "14376          0.000      0.000      0.000      0.000      0.000       0.000   \n",
      "14377          0.000      0.000      0.000      0.000      0.000       0.000   \n",
      "14378          0.000      0.000      0.000      0.000      0.000       0.000   \n",
      "\n",
      "                   6          7          8          9  ...        221  \\\n",
      "SAMPLE_ID                                              ...              \n",
      "0          25168.350  21879.138  31343.312  12983.839  ...  16680.445   \n",
      "1          19659.485  25434.347  23022.453  12072.541  ...  10604.387   \n",
      "2             43.055    394.181     22.921   1510.334  ...     48.828   \n",
      "3           7714.256   1169.975   5970.338   4385.780  ...   5315.840   \n",
      "4          12420.761   8202.335  10134.013   6203.555  ...   6039.249   \n",
      "...              ...        ...        ...        ...  ...        ...   \n",
      "14374          0.000      0.000      0.000      0.000  ...      0.000   \n",
      "14375          0.000      0.000      0.000      0.000  ...      0.000   \n",
      "14376          0.000      0.000      0.000      0.000  ...      0.000   \n",
      "14377          0.000      0.000      0.000      0.000  ...      0.000   \n",
      "14378          0.000      0.000      0.000      0.000  ...      0.000   \n",
      "\n",
      "                 222        223        224        225        226        227  \\\n",
      "SAMPLE_ID                                                                     \n",
      "0          21368.825  20965.233  61737.525  17463.295  23750.269  28832.829   \n",
      "1          13290.136  10992.894  50613.725  10715.209  17512.227  17225.294   \n",
      "2             33.877     44.952      4.241     38.053     78.057    307.665   \n",
      "3           6358.415   7320.776  15809.249   3706.516   5917.102   9212.000   \n",
      "4           7504.742   6426.542  32074.321   7521.277  10554.033  14752.731   \n",
      "...              ...        ...        ...        ...        ...        ...   \n",
      "14374          0.000      0.000      0.000      0.000      0.000      0.000   \n",
      "14375          0.000      0.000      0.000      0.000      0.000      0.000   \n",
      "14376          0.000      0.000      0.000      0.000      0.000      0.000   \n",
      "14377          0.000      0.000      0.000      0.000      0.000      0.000   \n",
      "14378          0.000      0.000      0.000      0.000      0.000      0.000   \n",
      "\n",
      "                 228        229       230  \n",
      "SAMPLE_ID                                  \n",
      "0          75723.688  10415.689  8877.668  \n",
      "1          62402.071   7883.421  5166.532  \n",
      "2            224.079      8.973    52.029  \n",
      "3          26945.455   3369.574  1778.426  \n",
      "4          24801.495   2928.187  1383.607  \n",
      "...              ...        ...       ...  \n",
      "14374          0.000      0.000     0.000  \n",
      "14375          0.000      0.000     0.000  \n",
      "14376          0.000      0.000     0.000  \n",
      "14377          0.000      0.000     0.000  \n",
      "14378          0.000      0.000     0.000  \n",
      "\n",
      "[14379 rows x 231 columns]\n",
      "                   0          1          2          3          4           5  \\\n",
      "SAMPLE_ID                                                                      \n",
      "0          12880.736  39235.245  47125.027  17759.562  16911.939  373520.889   \n",
      "1          13629.979  29296.085  42686.075  14363.479  12011.571  157101.452   \n",
      "2              8.693     22.395     50.843     66.151     54.679   11564.212   \n",
      "3           1926.368   9021.929  12278.160   8388.242  12418.195   74725.583   \n",
      "4           8592.185  19165.452  13258.599   9400.131   9190.623  150989.122   \n",
      "...              ...        ...        ...        ...        ...         ...   \n",
      "14374          0.000      0.000      0.000      0.000      0.000       0.000   \n",
      "14375          0.000      0.000      0.000      0.000      0.000       0.000   \n",
      "14376          0.000      0.000      0.000      0.000      0.000       0.000   \n",
      "14377          0.000      0.000      0.000      0.000      0.000       0.000   \n",
      "14378          0.000      0.000      0.000      0.000      0.000       0.000   \n",
      "\n",
      "                   6          7          8          9  ...        221  \\\n",
      "SAMPLE_ID                                              ...              \n",
      "0          25168.350  21879.138  31343.312  12983.839  ...  16680.445   \n",
      "1          19659.485  25434.347  23022.453  12072.541  ...  10604.387   \n",
      "2             43.055    394.181     22.921   1510.334  ...     48.828   \n",
      "3           7714.256   1169.975   5970.338   4385.780  ...   5315.840   \n",
      "4          12420.761   8202.335  10134.013   6203.555  ...   6039.249   \n",
      "...              ...        ...        ...        ...  ...        ...   \n",
      "14374          0.000      0.000      0.000      0.000  ...      0.000   \n",
      "14375          0.000      0.000      0.000      0.000  ...      0.000   \n",
      "14376          0.000      0.000      0.000      0.000  ...      0.000   \n",
      "14377          0.000      0.000      0.000      0.000  ...      0.000   \n",
      "14378          0.000      0.000      0.000      0.000  ...      0.000   \n",
      "\n",
      "                 222        223        224        225        226        227  \\\n",
      "SAMPLE_ID                                                                     \n",
      "0          21368.825  20965.233  61737.525  17463.295  23750.269  28832.829   \n",
      "1          13290.136  10992.894  50613.725  10715.209  17512.227  17225.294   \n",
      "2             33.877     44.952      4.241     38.053     78.057    307.665   \n",
      "3           6358.415   7320.776  15809.249   3706.516   5917.102   9212.000   \n",
      "4           7504.742   6426.542  32074.321   7521.277  10554.033  14752.731   \n",
      "...              ...        ...        ...        ...        ...        ...   \n",
      "14374          0.000      0.000      0.000      0.000      0.000      0.000   \n",
      "14375          0.000      0.000      0.000      0.000      0.000      0.000   \n",
      "14376          0.000      0.000      0.000      0.000      0.000      0.000   \n",
      "14377          0.000      0.000      0.000      0.000      0.000      0.000   \n",
      "14378          0.000      0.000      0.000      0.000      0.000      0.000   \n",
      "\n",
      "                 228        229       230  \n",
      "SAMPLE_ID                                  \n",
      "0          75723.688  10415.689  8877.668  \n",
      "1          62402.071   7883.421  5166.532  \n",
      "2            224.079      8.973    52.029  \n",
      "3          26945.455   3369.574  1778.426  \n",
      "4          24801.495   2928.187  1383.607  \n",
      "...              ...        ...       ...  \n",
      "14374          0.000      0.000     0.000  \n",
      "14375          0.000      0.000     0.000  \n",
      "14376          0.000      0.000     0.000  \n",
      "14377          0.000      0.000     0.000  \n",
      "14378          0.000      0.000     0.000  \n",
      "\n",
      "[14379 rows x 231 columns]\n"
     ]
    }
   ],
   "source": [
    "\"\"\"\n",
    "load data\n",
    "\"\"\"\n",
    "mRNA_231_df=pd.read_csv(mRNA_231_file)\n",
    "\n",
    "st = [str(x) for x in range(231)]\n",
    "\n",
    "mRNA_231_df.drop_duplicates(subset=st)\n",
    "\n",
    "mRNA_231_df = mRNA_231_df.set_index('SAMPLE_ID')\n",
    "print(mRNA_231_df)\n",
    "print(mRNA_231_df)\n"
   ]
  },
  {
   "cell_type": "code",
   "execution_count": 121,
   "metadata": {},
   "outputs": [
    {
     "name": "stdout",
     "output_type": "stream",
     "text": [
      "(14379, 231)\n",
      "428\n",
      "[2, 9, 33, 48, 79, 100, 115, 119, 123, 135, 140, 145, 151, 158, 177, 190, 199, 219, 236, 241, 242, 245, 260, 278, 289, 302, 310, 311, 334, 342, 370, 409, 414, 436, 448, 449, 467, 502, 555, 627, 633, 690, 707, 724, 728, 731, 743, 805, 862, 863, 876, 882, 889, 918, 940, 943, 945, 946, 968, 974, 996, 1012, 1014, 1015, 1027, 1031, 1035, 1051, 1052, 1064, 1085, 1089, 1122, 1125, 1131, 1157, 1160, 1169, 1172, 1196, 1218, 1219, 1228, 1269, 1317, 1328, 1329, 1330, 1397, 1407, 1408, 1411, 1440, 1500, 1552, 1594, 1597, 1629, 1638, 1655, 1664, 1667, 1715, 1725, 1761, 1768, 1779, 1791, 1814, 1831, 1836, 1840, 1853, 1854, 1875, 1876, 1900, 1902, 1920, 1946, 1973, 2130, 2136, 2162, 2178, 2193, 2206, 2294, 2351, 2366, 2457, 2516, 2538, 2593, 2617, 2638, 2645, 2649, 2650, 2753, 2775, 2822, 2874, 2912, 2962, 2985, 2994, 3006, 3047, 3112, 3116, 3121, 3220, 3266, 3286, 3334, 3347, 3348, 3366, 3368, 3406, 3419, 3420, 3451, 3454, 3483, 3618, 3653, 3671, 3681, 3699, 3705, 3738, 3746, 3824, 3854, 3940, 3959, 4003, 4012, 4036, 4062, 4094, 4104, 4148, 4200, 4234, 4298, 4326, 4342, 4359, 4377, 4498, 4509, 4562, 4569, 4790, 4839, 4910, 4932, 4982, 5017, 5094, 5153, 5193, 5197, 5225, 5243, 5272, 5296, 5306, 5359, 5415, 5551, 5625, 5637, 5664, 5673, 5686, 5702, 5718, 5725, 5742, 5743, 5776, 5777, 5813, 5832, 5880, 5927, 6082, 6085, 6100, 6101, 6110, 6112, 6122, 6129, 6130, 6206, 6229, 6238, 6271, 6309, 6416, 6504, 6505, 6531, 6577, 6583, 6599, 6636, 6728, 6782, 6823, 6852, 6994, 7000, 7009, 7023, 7045, 7072, 7135, 7177, 7179, 7190, 7241, 7396, 7439, 7454, 7531, 7532, 7554, 7701, 7705, 7720, 7748, 7806, 7822, 7850, 7863, 7950, 7966, 7989, 8005, 8009, 8019, 8075, 8224, 8258, 8261, 8287, 8383, 8405, 8409, 8425, 8427, 8513, 8598, 8606, 8698, 8705, 8718, 8732, 8783, 8785, 8787, 8813, 8842, 8916, 8959, 8967, 8988, 9127, 9131, 9152, 9165, 9166, 9184, 9188, 9267, 9350, 9386, 9414, 9455, 9494, 9506, 9621, 9631, 9650, 9748, 10061, 10066, 10187, 10204, 10219, 10258, 10366, 10410, 10430, 10432, 10454, 10522, 10557, 10627, 10647, 10677, 10708, 10731, 10760, 10783, 10819, 10824, 10845, 10911, 10949, 10959, 10977, 11022, 11083, 11112, 11155, 11179, 11217, 11282, 11290, 11343, 11444, 11481, 11560, 11711, 11716, 11724, 11753, 11829, 11940, 11989, 12053, 12058, 12094, 12102, 12146, 12218, 12222, 12240, 12254, 12322, 12331, 12343, 12366, 12382, 12426, 12454, 12472, 12489, 12599, 12600, 12609, 12617, 12628, 12698, 12847, 12898, 12916, 12935, 12964, 12979, 13010, 13014, 13038, 13047, 13075, 13138, 13251, 13298, 13365, 13484, 13485, 13492, 13580, 13605, 13683, 13749, 13864, 13874, 13940, 14010, 14119]\n"
     ]
    }
   ],
   "source": [
    "(p_start, p_end) = (0,231)\n",
    "mRNA_231_df=pd.read_csv(mRNA_231_file)\n",
    "mRNA_231_df = mRNA_231_df.set_index('SAMPLE_ID')\n",
    "patient_mRNA = []\n",
    "for column in mRNA_231_df:\n",
    "    #     print(mRNA_244_df[column].tolist())\n",
    "    patient_mRNA.append(mRNA_231_df[column].tolist())\n",
    "mRNA_np = np.asarray(patient_mRNA)\n",
    "\n",
    "\n",
    "x = mRNA_np.T\n",
    "def rd(x):\n",
    "    return  (rankdata(x, method='dense') - 1).astype(int)\n",
    "x = np.apply_along_axis(rd, 1, x)\n",
    "mRNA_np = scale(x.T,0,100)\n",
    "\n",
    "\n",
    "mRNA_np = mRNA_np.T\n",
    "print(mRNA_np.shape)\n",
    "\n",
    "\n",
    "LN_m = [1]*117+(231-117)*[0]\n",
    "Bone_m = [0]*117+74*[1]+(40)*[0]\n",
    "Liver_m = [0]*191+(40)*[1]\n",
    "threshold = 0.15\n",
    "\n",
    "mask_corr = []  # correlations of all genes with the mask\n",
    "good_mRNA = []  # selected mRNAs shape: (n*231)\n",
    "the_corr = []   # correlations of selected mRNAs with the mask\n",
    "indexs = []\n",
    "for i in range(len(mRNA_np)):\n",
    "    each = mRNA_np[i]\n",
    "    LNcorr = np.corrcoef(LN_m, each)[1,0]\n",
    "    Bonecorr = np.corrcoef(Bone_m, each)[1,0]\n",
    "    Livercorr = np.corrcoef(Liver_m, each)[1,0]\n",
    "    if (LNcorr > threshold or LNcorr<-threshold) and \\\n",
    "    (Bonecorr > threshold or Bonecorr<-threshold) and \\\n",
    "    (Livercorr > threshold or Livercorr<-threshold) and \\\n",
    "    (LNcorr * Bonecorr<0):\n",
    "        indexs.append(i)\n",
    "        \n",
    "print(len(indexs))\n",
    "        \n",
    "\n",
    "print(indexs)\n",
    "    \n",
    "    \n",
    "    "
   ]
  },
  {
   "cell_type": "code",
   "execution_count": 122,
   "metadata": {},
   "outputs": [
    {
     "name": "stdout",
     "output_type": "stream",
     "text": [
      "(428, 231)\n",
      "[[8.69300e+00 2.23950e+01 5.08430e+01 ... 2.24079e+02 8.97300e+00\n",
      "  5.20290e+01]\n",
      " [1.16400e+00 3.22020e+01 5.80760e+01 ... 1.12152e+02 5.74000e-01\n",
      "  1.00740e+01]\n",
      " [1.31000e-01 4.27000e-01 2.43800e+00 ... 7.18100e+00 0.00000e+00\n",
      "  4.69500e+00]\n",
      " ...\n",
      " [1.60000e-02 4.40000e-02 3.20000e-02 ... 0.00000e+00 1.20000e-02\n",
      "  1.10000e-01]\n",
      " [0.00000e+00 0.00000e+00 0.00000e+00 ... 1.40000e-02 0.00000e+00\n",
      "  0.00000e+00]\n",
      " [6.00000e-03 2.10000e-02 2.50000e-02 ... 2.90000e-02 1.00000e-02\n",
      "  8.50000e-02]]\n"
     ]
    }
   ],
   "source": [
    "mRNA_231_df=pd.read_csv(mRNA_231_file)\n",
    "mRNA_231_df = mRNA_231_df.set_index('SAMPLE_ID')\n",
    "patient_mRNA = []\n",
    "for column in mRNA_231_df:\n",
    "    #     print(mRNA_244_df[column].tolist())\n",
    "    patient_mRNA.append(mRNA_231_df[column].tolist())\n",
    "mRNA_np = np.asarray(patient_mRNA)\n",
    "\n",
    "mRNA_np = mRNA_np.T\n",
    "\n",
    "fitered_genes = []\n",
    "for i in indexs:\n",
    "    fitered_genes.append(mRNA_np[i])\n",
    "fitered_genes = np.array(fitered_genes)\n",
    "print(np.array(fitered_genes).shape)\n",
    "# fitered_genes = np.append(np.array([res[1]]).reshape(187,1), fitered_genes, axis = 1)\n",
    "# print(fitered_genes.shape)\n",
    "print(fitered_genes)\n",
    "# np.savetxt('C:\\\\Users\\\\bird\\Desktop\\\\cancer_project_github\\\\cancer_data\\\\filtered_187_genes_data.csv', fitered_genes, delimiter=\",\")"
   ]
  },
  {
   "cell_type": "code",
   "execution_count": null,
   "metadata": {},
   "outputs": [],
   "source": [
    "sv = pd.DataFrame(fitered_genes,index=res[0])\n",
    "# pd.DataFrame(sv).to_csv('C:\\\\Users\\\\bird\\Desktop\\\\cancer_project_github\\\\cancer_data\\\\filtered_524_genes_data.csv')"
   ]
  }
 ],
 "metadata": {
  "kernelspec": {
   "display_name": "Python 3",
   "language": "python",
   "name": "python3"
  },
  "language_info": {
   "codemirror_mode": {
    "name": "ipython",
    "version": 3
   },
   "file_extension": ".py",
   "mimetype": "text/x-python",
   "name": "python",
   "nbconvert_exporter": "python",
   "pygments_lexer": "ipython3",
   "version": "3.7.3"
  }
 },
 "nbformat": 4,
 "nbformat_minor": 4
}
